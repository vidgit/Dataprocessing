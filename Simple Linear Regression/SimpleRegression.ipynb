{
 "cells": [
  {
   "cell_type": "code",
   "execution_count": 1,
   "metadata": {
    "collapsed": true
   },
   "outputs": [],
   "source": [
    "import numpy as np\n",
    "import matplotlib.pyplot as plt\n",
    "import pandas as pd"
   ]
  },
  {
   "cell_type": "code",
   "execution_count": 2,
   "metadata": {
    "collapsed": true
   },
   "outputs": [],
   "source": [
    "dataset=pd.read_csv(\"Salary_data.csv\")"
   ]
  },
  {
   "cell_type": "code",
   "execution_count": 6,
   "metadata": {},
   "outputs": [],
   "source": [
    "X = dataset.iloc[:,0:1].values"
   ]
  },
  {
   "cell_type": "code",
   "execution_count": 7,
   "metadata": {},
   "outputs": [
    {
     "data": {
      "text/plain": [
       "array([[  1.1],\n",
       "       [  1.3],\n",
       "       [  1.5],\n",
       "       [  2. ],\n",
       "       [  2.2],\n",
       "       [  2.9],\n",
       "       [  3. ],\n",
       "       [  3.2],\n",
       "       [  3.2],\n",
       "       [  3.7],\n",
       "       [  3.9],\n",
       "       [  4. ],\n",
       "       [  4. ],\n",
       "       [  4.1],\n",
       "       [  4.5],\n",
       "       [  4.9],\n",
       "       [  5.1],\n",
       "       [  5.3],\n",
       "       [  5.9],\n",
       "       [  6. ],\n",
       "       [  6.8],\n",
       "       [  7.1],\n",
       "       [  7.9],\n",
       "       [  8.2],\n",
       "       [  8.7],\n",
       "       [  9. ],\n",
       "       [  9.5],\n",
       "       [  9.6],\n",
       "       [ 10.3],\n",
       "       [ 10.5]])"
      ]
     },
     "execution_count": 7,
     "metadata": {},
     "output_type": "execute_result"
    }
   ],
   "source": [
    "\n"
   ]
  },
  {
   "cell_type": "code",
   "execution_count": null,
   "metadata": {
    "collapsed": true
   },
   "outputs": [],
   "source": []
  }
 ],
 "metadata": {
  "kernelspec": {
   "display_name": "Python 3",
   "language": "python",
   "name": "python3"
  },
  "language_info": {
   "codemirror_mode": {
    "name": "ipython",
    "version": 3
   },
   "file_extension": ".py",
   "mimetype": "text/x-python",
   "name": "python",
   "nbconvert_exporter": "python",
   "pygments_lexer": "ipython3",
   "version": "3.6.3"
  }
 },
 "nbformat": 4,
 "nbformat_minor": 2
}
